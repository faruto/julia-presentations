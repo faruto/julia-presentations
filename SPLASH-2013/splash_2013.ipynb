{
 "metadata": {
  "language": "Julia",
  "name": ""
 },
 "nbformat": 3,
 "nbformat_minor": 0,
 "worksheets": [
  {
   "cells": [
    {
     "cell_type": "markdown",
     "metadata": {
      "slideshow": {
       "slide_type": "slide"
      }
     },
     "source": [
      "# <center><img src=\"files/julia_logo.png\" width=\"250\" alt=\"Julia\"/></center>\n",
      "# <center>A fast dynamic language for technical computing</center>\n",
      "### <center>Stefan Karpinski, Jeff Bezanson, Viral Shah, Alan Edelman</center>"
     ]
    },
    {
     "cell_type": "markdown",
     "metadata": {
      "slideshow": {
       "slide_type": "slide"
      }
     },
     "source": [
      "<center><img src=\"files/languages.png\" alt=\"technical computing systems\" width=\"60%\"/></center>"
     ]
    },
    {
     "cell_type": "markdown",
     "metadata": {},
     "source": [
      "## Some Things Scientists Want\n",
      "\n",
      "- extreme convenience \u2013 it Just Works\u2122\n",
      "- code that looks like pseudocode\n",
      "- huge standard library\n",
      "- performance"
     ]
    },
    {
     "cell_type": "markdown",
     "metadata": {},
     "source": [
      "## Julia is a numerical computing language\n",
      "\n",
      "- *because* it **doesn't** special case numerical computing\n",
      "\n",
      "In most languages, numerical stuff is *very* special case\n",
      "\n",
      "- needs to be built into the spec/compiler\n",
      "- especially true of Matlab, et al."
     ]
    },
    {
     "cell_type": "markdown",
     "metadata": {},
     "source": [
      "### Scheme $R^6RS$\n",
      "\n",
      "<center><img src=\"files/r6rs.png\" alt=\"R6RS\" width=\"100%\"/></center>"
     ]
    },
    {
     "cell_type": "markdown",
     "metadata": {},
     "source": [
      "## Driving Design Goal of Julia\n",
      "\n",
      "Define all numerics in the language\n",
      "\n",
      "- includes more than \"just numbers\"\n",
      "  - images\n",
      "  - color spaces\n",
      "  - polynomials\n",
      "  - finite fields\n",
      "  - etc.\n",
      "\n",
      "Hard combination of expressiveness and efficiency\n",
      "\n",
      "- allow experts to write their own numerical types\n",
      "- user-defined ones should\n",
      "  - be just as fast as built-in types\n",
      "  - interact seamlessly with built-in types\n",
      "- operations tend to be insanely polymorphic"
     ]
    },
    {
     "cell_type": "markdown",
     "metadata": {},
     "source": [
      "## The Solution: Dynamic Multiple Dispatch\n",
      "\n",
      "Julia takes multiple dispatch seriously \u2014 everything is a generic function"
     ]
    },
    {
     "cell_type": "code",
     "collapsed": false,
     "input": [
      "+"
     ],
     "language": "python",
     "metadata": {},
     "outputs": [
      {
       "metadata": {},
       "output_type": "pyout",
       "prompt_number": 1,
       "text": [
        "+ (generic function with 92 methods)"
       ]
      }
     ],
     "prompt_number": 1
    },
    {
     "cell_type": "code",
     "collapsed": false,
     "input": [
      "@which 1 + 2"
     ],
     "language": "python",
     "metadata": {},
     "outputs": [
      {
       "output_type": "stream",
       "stream": "stdout",
       "text": [
        "+("
       ]
      },
      {
       "output_type": "stream",
       "stream": "stdout",
       "text": [
        "x::Int64,y::Int64) at int.jl:41\n"
       ]
      }
     ],
     "prompt_number": 2
    },
    {
     "cell_type": "code",
     "collapsed": false,
     "input": [
      "@which 1 + 2.5"
     ],
     "language": "python",
     "metadata": {},
     "outputs": [
      {
       "output_type": "stream",
       "stream": "stdout",
       "text": [
        "+(x::Number,y::Number) at promotion.jl:148\n"
       ]
      }
     ],
     "prompt_number": 3
    },
    {
     "cell_type": "code",
     "collapsed": false,
     "input": [
      "getindex"
     ],
     "language": "python",
     "metadata": {},
     "outputs": [
      {
       "metadata": {},
       "output_type": "pyout",
       "prompt_number": 4,
       "text": [
        "getindex (generic function with 146 methods)"
       ]
      }
     ],
     "prompt_number": 4
    },
    {
     "cell_type": "code",
     "collapsed": false,
     "input": [
      "@which rand(5)[1]"
     ],
     "language": "python",
     "metadata": {},
     "outputs": [
      {
       "output_type": "stream",
       "stream": "stdout",
       "text": [
        "getindex(A::Array{T,N},i0::Real) at array.jl:277\n"
       ]
      }
     ],
     "prompt_number": 5
    },
    {
     "cell_type": "code",
     "collapsed": false,
     "input": [
      "convert"
     ],
     "language": "python",
     "metadata": {},
     "outputs": [
      {
       "metadata": {},
       "output_type": "pyout",
       "prompt_number": 6,
       "text": [
        "convert (generic function with 337 methods)"
       ]
      }
     ],
     "prompt_number": 6
    },
    {
     "cell_type": "code",
     "collapsed": false,
     "input": [
      "@which convert(Float64,1)"
     ],
     "language": "python",
     "metadata": {},
     "outputs": [
      {
       "output_type": "stream",
       "stream": "stdout",
       "text": [
        "convert(::Type{Float64},x::Int64) at float.jl:21\n"
       ]
      }
     ],
     "prompt_number": 7
    },
    {
     "cell_type": "markdown",
     "metadata": {},
     "source": [
      "And of course, all user-defined functions too."
     ]
    },
    {
     "cell_type": "markdown",
     "metadata": {},
     "source": [
      "## Dynamic Typing\n",
      "\n",
      "Definitions hold regardless of what the compiler is able to prove\n",
      "\n",
      "- user can be sure that what they write Just Works\u2122\n",
      "- we can figure out precise types most of the time\n",
      "\n",
      "As [Leah Hanson](https://github.com/astrieanna) observed while learning Julia:\n",
      "\n",
      "> I like that Julia uses the type system in all the ways that don't end with the programmer arguing with the compiler.\n",
      "\n",
      "**The customer is always right.**"
     ]
    },
    {
     "cell_type": "markdown",
     "metadata": {
      "slideshow": {
       "slide_type": "slide"
      }
     },
     "source": [
      "### Multiple Dispatch in Julia\n",
      "\n",
      "#### Basic dispatch:"
     ]
    },
    {
     "cell_type": "code",
     "collapsed": false,
     "input": [
      "f(a::Any, b) = \"fallback\"\n",
      "f(a::Number, b::Number) = \"a and b are both numbers\"\n",
      "f(a::Number, b) = \"a is a number\"\n",
      "f(a, b::Number) = \"b is a number\"\n",
      "f(a::Integer, b::Integer) = \"a and b are both integers\""
     ],
     "language": "python",
     "metadata": {},
     "outputs": [
      {
       "metadata": {},
       "output_type": "pyout",
       "prompt_number": 8,
       "text": [
        "f (generic function with 5 methods)"
       ]
      }
     ],
     "prompt_number": 8
    },
    {
     "cell_type": "code",
     "collapsed": false,
     "input": [
      "f(1.5,2)"
     ],
     "language": "python",
     "metadata": {},
     "outputs": [
      {
       "metadata": {},
       "output_type": "pyout",
       "prompt_number": 9,
       "text": [
        "\"a and b are both numbers\""
       ]
      }
     ],
     "prompt_number": 9
    },
    {
     "cell_type": "code",
     "collapsed": false,
     "input": [
      "f(1,\"bar\")"
     ],
     "language": "python",
     "metadata": {},
     "outputs": [
      {
       "metadata": {},
       "output_type": "pyout",
       "prompt_number": 10,
       "text": [
        "\"a is a number\""
       ]
      }
     ],
     "prompt_number": 10
    },
    {
     "cell_type": "code",
     "collapsed": false,
     "input": [
      "f(1,2)"
     ],
     "language": "python",
     "metadata": {},
     "outputs": [
      {
       "metadata": {},
       "output_type": "pyout",
       "prompt_number": 11,
       "text": [
        "\"a and b are both integers\""
       ]
      }
     ],
     "prompt_number": 11
    },
    {
     "cell_type": "code",
     "collapsed": false,
     "input": [
      "f(\"foo\",[1,2])"
     ],
     "language": "python",
     "metadata": {},
     "outputs": [
      {
       "metadata": {},
       "output_type": "pyout",
       "prompt_number": 12,
       "text": [
        "\"fallback\""
       ]
      }
     ],
     "prompt_number": 12
    },
    {
     "cell_type": "code",
     "collapsed": false,
     "input": [
      "methods(f)"
     ],
     "language": "python",
     "metadata": {},
     "outputs": [
      {
       "metadata": {},
       "output_type": "pyout",
       "prompt_number": 13,
       "text": [
        "# 5 methods for generic function \"f\":\n",
        "f(a::Integer,b::Integer) at In[8]:5\n",
        "f(a::Number,b::Number) at In[8]:2\n",
        "f(a::Number,b) at In[8]:3\n",
        "f(a,b::Number) at In[8]:4\n",
        "f(a,b) at In[8]:1"
       ]
      }
     ],
     "prompt_number": 13
    },
    {
     "cell_type": "markdown",
     "metadata": {
      "slideshow": {
       "slide_type": "subslide"
      }
     },
     "source": [
      "#### \"Diagonal\" dispatch:"
     ]
    },
    {
     "cell_type": "code",
     "collapsed": false,
     "input": [
      "f{T<:Number}(a::T, b::T) = \"a and b are both $(T)s\""
     ],
     "language": "python",
     "metadata": {},
     "outputs": [
      {
       "metadata": {},
       "output_type": "pyout",
       "prompt_number": 14,
       "text": [
        "f (generic function with 6 methods)"
       ]
      }
     ],
     "prompt_number": 14
    },
    {
     "cell_type": "code",
     "collapsed": false,
     "input": [
      "f(big(1.5),big(2.5))"
     ],
     "language": "python",
     "metadata": {},
     "outputs": [
      {
       "metadata": {},
       "output_type": "pyout",
       "prompt_number": 15,
       "text": [
        "\"a and b are both BigFloats\""
       ]
      }
     ],
     "prompt_number": 15
    },
    {
     "cell_type": "code",
     "collapsed": false,
     "input": [
      "f(big(1),big(2)) #<== integer rule is more specific"
     ],
     "language": "python",
     "metadata": {},
     "outputs": [
      {
       "metadata": {},
       "output_type": "pyout",
       "prompt_number": 16,
       "text": [
        "\"a and b are both integers\""
       ]
      }
     ],
     "prompt_number": 16
    },
    {
     "cell_type": "code",
     "collapsed": false,
     "input": [
      "f(\"foo\",\"bar\") #<== still doesn't apply to non-numbers"
     ],
     "language": "python",
     "metadata": {},
     "outputs": [
      {
       "metadata": {},
       "output_type": "pyout",
       "prompt_number": 17,
       "text": [
        "\"fallback\""
       ]
      }
     ],
     "prompt_number": 17
    },
    {
     "cell_type": "code",
     "collapsed": false,
     "input": [
      "f(1)"
     ],
     "language": "python",
     "metadata": {},
     "outputs": [
      {
       "ename": "LoadError",
       "evalue": "no method f(Int64,)\nat In[18]:1",
       "output_type": "pyerr",
       "traceback": [
        "no method f(Int64,)\nat In[18]:1"
       ]
      }
     ],
     "prompt_number": 18
    },
    {
     "cell_type": "markdown",
     "metadata": {
      "slideshow": {
       "slide_type": "subslide"
      }
     },
     "source": [
      "#### Varargs methods:"
     ]
    },
    {
     "cell_type": "code",
     "collapsed": false,
     "input": [
      "f(args::Number...) = \"$(length(args))-ary heterogeneous call\"\n",
      "f{T<:Number}(args::T...) = \"$(length(args))-ary homogeneous call\""
     ],
     "language": "python",
     "metadata": {},
     "outputs": [
      {
       "metadata": {},
       "output_type": "pyout",
       "prompt_number": 19,
       "text": [
        "f (generic function with 8 methods)"
       ]
      }
     ],
     "prompt_number": 19
    },
    {
     "cell_type": "code",
     "collapsed": false,
     "input": [
      "f(1)"
     ],
     "language": "python",
     "metadata": {},
     "outputs": [
      {
       "metadata": {},
       "output_type": "pyout",
       "prompt_number": 20,
       "text": [
        "\"1-ary homogeneous call\""
       ]
      }
     ],
     "prompt_number": 20
    },
    {
     "cell_type": "code",
     "collapsed": false,
     "input": [
      "f(1,2,3)"
     ],
     "language": "python",
     "metadata": {},
     "outputs": [
      {
       "metadata": {},
       "output_type": "pyout",
       "prompt_number": 21,
       "text": [
        "\"3-ary homogeneous call\""
       ]
      }
     ],
     "prompt_number": 21
    },
    {
     "cell_type": "code",
     "collapsed": false,
     "input": [
      "f(1,1.5,2)"
     ],
     "language": "python",
     "metadata": {},
     "outputs": [
      {
       "metadata": {},
       "output_type": "pyout",
       "prompt_number": 22,
       "text": [
        "\"3-ary heterogeneous call\""
       ]
      }
     ],
     "prompt_number": 22
    },
    {
     "cell_type": "code",
     "collapsed": false,
     "input": [
      "f() #==> heterogeneous because we can't bind T"
     ],
     "language": "python",
     "metadata": {},
     "outputs": [
      {
       "metadata": {},
       "output_type": "pyout",
       "prompt_number": 23,
       "text": [
        "\"0-ary heterogeneous call\""
       ]
      }
     ],
     "prompt_number": 23
    },
    {
     "cell_type": "code",
     "collapsed": false,
     "input": [
      "f(1,2) #<== previous 2-arg method is more specific"
     ],
     "language": "python",
     "metadata": {},
     "outputs": [
      {
       "metadata": {},
       "output_type": "pyout",
       "prompt_number": 24,
       "text": [
        "\"a and b are both integers\""
       ]
      }
     ],
     "prompt_number": 24
    },
    {
     "cell_type": "code",
     "collapsed": false,
     "input": [
      "f(\"foo\") #<== doesn't apply to non-numbers"
     ],
     "language": "python",
     "metadata": {},
     "outputs": [
      {
       "ename": "LoadError",
       "evalue": "no method f(ASCIIString,)\nat In[25]:1",
       "output_type": "pyerr",
       "traceback": [
        "no method f(ASCIIString,)\nat In[25]:1"
       ]
      }
     ],
     "prompt_number": 25
    },
    {
     "cell_type": "markdown",
     "metadata": {
      "slideshow": {
       "slide_type": "slide"
      }
     },
     "source": [
      "## Multiple Dispatch in English\n",
      "\n",
      "Related meanings:\n",
      "\n",
      "    \"she goes (home|away)\"\n",
      "        go(subj::Noun, where::PlaceAdverb)\n",
      "    \"it went (wrong|well)\"\n",
      "        go(subj::Noun, how::MannerAdverb)\n",
      "\n",
      "Default arguments:\n",
      "\n",
      "    \"go (home|away|well)\"\n",
      "        go(adv::Adverb) = go(Person(\"addressee\"),adv)\n",
      "    \"he goes\"\n",
      "        go(subj::Noun)  = go(subj,PlaceAdverb(\"somewhere\"))\n",
      "    \"go\"\n",
      "        go()            = go(PlaceAdverb(\"somewhere\"))\n",
      "\n",
      "Fragment of type hierarchy:\n",
      "\n",
      "    Person <: Noun\n",
      "    PlaceAdverb <: Adverb\n",
      "    MannerAdverb <: Adverb"
     ]
    },
    {
     "cell_type": "markdown",
     "metadata": {},
     "source": [
      "## Example: Generic `max`\n",
      "Promote arguments to a common type:\n",
      "\n",
      "    max{T<:Real}(x::T, y::T) = x > y ? x : y\n",
      "    max(x::Real, y::Real) = max(promote(x,y)...)\n",
      "\n",
      "- Requires \"diagonal\" dispatch\n",
      "- Abstract numeric types (e.g. `Real`) essential to being generic\n",
      "- Prescriptive, not just descriptive \u2014\u00a0describes *when* to use this method"
     ]
    },
    {
     "cell_type": "markdown",
     "metadata": {},
     "source": [
      "## Type Promotion System in Dispatch\n",
      "\n",
      "    promote{T,S}(x::T, y::S) =\n",
      "        (convert(promote_type(T,S),x), convert(promote_type(T,S),y))\n",
      "    \n",
      "<pre>promote_type{T,S}(::Type{T}, ::Type{S}) =\n",
      "    promote_result(T, S, typejoin(promote_rule(T,S), promote_rule(S,T)))</pre>\n",
      "    \n",
      "    promote_rule(T,S) = None\n",
      "    promote_result(t,s,T) = T\n",
      "    promote_result{T,S}(::Type{T}, ::Type{S}, ::Type{None}) = typejoin(T, S)"
     ]
    },
    {
     "cell_type": "markdown",
     "metadata": {},
     "source": [
      "### Example: Modular Integers"
     ]
    },
    {
     "cell_type": "code",
     "collapsed": false,
     "input": [
      "module ModInts\n",
      "export ModInt\n",
      "import Base: -, +, *, convert, promote_rule, show, showcompact\n",
      "\n",
      "immutable ModInt{n} <: Integer\n",
      "    k::Int\n",
      "    ModInt(k) = new(k % n)\n",
      "end\n",
      "\n",
      "-{n}(a::ModInt{n}) = ModInt{n}(-a.k)\n",
      "+{n}(a::ModInt{n}, b::ModInt{n}) = ModInt{n}(a.k+b.k)\n",
      "-{n}(a::ModInt{n}, b::ModInt{n}) = ModInt{n}(a.k-b.k)\n",
      "*{n}(a::ModInt{n}, b::ModInt{n}) = ModInt{n}(a.k*b.k)\n",
      "\n",
      "convert{n}(::Type{ModInt{n}}, i::Int) = ModInt{n}(i)\n",
      "promote_rule{n}(::Type{ModInt{n}}, ::Type{Int}) = ModInt{n}\n",
      "\n",
      "show{n}(io::IO, k::ModInt{n}) = print(io, \"$(k.k) mod $n\")\n",
      "showcompact(io::IO, k::ModInt) = print(io, k.k)\n",
      "\n",
      "end # module\n",
      "\n",
      "using ModInts"
     ],
     "language": "python",
     "metadata": {},
     "outputs": [],
     "prompt_number": 26
    },
    {
     "cell_type": "code",
     "collapsed": false,
     "input": [
      "a = ModInt{11}(12345)"
     ],
     "language": "python",
     "metadata": {},
     "outputs": [
      {
       "metadata": {},
       "output_type": "pyout",
       "prompt_number": 27,
       "text": [
        "3 mod 11"
       ]
      }
     ],
     "prompt_number": 27
    },
    {
     "cell_type": "code",
     "collapsed": false,
     "input": [
      "b = ModInt{11}(22222)"
     ],
     "language": "python",
     "metadata": {},
     "outputs": [
      {
       "metadata": {},
       "output_type": "pyout",
       "prompt_number": 28,
       "text": [
        "2 mod 11"
       ]
      }
     ],
     "prompt_number": 28
    },
    {
     "cell_type": "code",
     "collapsed": false,
     "input": [
      "a + b"
     ],
     "language": "python",
     "metadata": {},
     "outputs": [
      {
       "metadata": {},
       "output_type": "pyout",
       "prompt_number": 29,
       "text": [
        "5 mod 11"
       ]
      }
     ],
     "prompt_number": 29
    },
    {
     "cell_type": "code",
     "collapsed": false,
     "input": [
      "1 + a"
     ],
     "language": "python",
     "metadata": {},
     "outputs": [
      {
       "metadata": {},
       "output_type": "pyout",
       "prompt_number": 30,
       "text": [
        "4 mod 11"
       ]
      }
     ],
     "prompt_number": 30
    },
    {
     "cell_type": "code",
     "collapsed": false,
     "input": [
      "2a^2 + 3a + 1"
     ],
     "language": "python",
     "metadata": {},
     "outputs": [
      {
       "metadata": {},
       "output_type": "pyout",
       "prompt_number": 31,
       "text": [
        "6 mod 11"
       ]
      }
     ],
     "prompt_number": 31
    },
    {
     "cell_type": "code",
     "collapsed": false,
     "input": [
      "A = map(ModInt{11}, rand(1:10,10,10))"
     ],
     "language": "python",
     "metadata": {},
     "outputs": [
      {
       "metadata": {},
       "output_type": "pyout",
       "prompt_number": 32,
       "text": [
        "10x10 Array{ModInt{11},2}:\n",
        "  5   4  3  5  6   6   7   5  10  8\n",
        "  7   3  5  2  5   7   2  10   8  9\n",
        "  8   3  9  3  3   9   8   2   7  2\n",
        " 10   8  6  9  7  10   8   2  10  3\n",
        "  7  10  2  2  9   6   6   5   8  6\n",
        "  2   3  1  5  7   9  10   6   7  4\n",
        "  4   2  2  5  4   6   3   1   1  3\n",
        "  2   5  8  3  3   4   8   5   6  1\n",
        "  2   1  1  2  4   2   4   1  10  5\n",
        "  9   2  8  5  4   5   6   3   9  8"
       ]
      }
     ],
     "prompt_number": 32
    },
    {
     "cell_type": "code",
     "collapsed": false,
     "input": [
      "sizeof(A)"
     ],
     "language": "python",
     "metadata": {},
     "outputs": [
      {
       "metadata": {},
       "output_type": "pyout",
       "prompt_number": 33,
       "text": [
        "800"
       ]
      }
     ],
     "prompt_number": 33
    },
    {
     "cell_type": "code",
     "collapsed": false,
     "input": [
      "2A^2 + 3A + 1"
     ],
     "language": "python",
     "metadata": {},
     "outputs": [
      {
       "metadata": {},
       "output_type": "pyout",
       "prompt_number": 34,
       "text": [
        "10x10 Array{ModInt{11},2}:\n",
        " 0  10   2  10   2  9  0   2  0   3\n",
        " 8   8   3   7   5  8  3   2  1   4\n",
        " 4   8   4   1  10  9  2  10  3  10\n",
        " 9   1   5  10   5  7  4   8  3   8\n",
        " 2   4   0   3   6  2  8   6  4   5\n",
        " 6   3  10   4   3  1  9   1  7   0\n",
        " 5   9   0   4   7  3  3   7  0   3\n",
        " 7  10   9   7   5  6  3   1  2   4\n",
        " 8   2   0   3   9  3  9   1  4   0\n",
        " 8   4   8   6   9  9  2   4  1  10"
       ]
      }
     ],
     "prompt_number": 34
    },
    {
     "cell_type": "code",
     "collapsed": false,
     "input": [
      "code_llvm(+, (ModInt{11},ModInt{11}))"
     ],
     "language": "python",
     "metadata": {},
     "outputs": [
      {
       "output_type": "stream",
       "stream": "stdout",
       "text": [
        "\n",
        "define %ModInt @\"julia_+1581\"(%ModInt, %ModInt) {\n",
        "top:\n",
        "  %2 = extractvalue %ModInt %0, 0, !dbg !7771\n",
        "  %3 = extractvalue %ModInt %1, 0, !dbg !7771\n",
        "  %4 = add i64 %3, %2, !dbg !7771\n",
        "  %5 = srem i64 %4, 11, !dbg !7771\n",
        "  %6 = insertvalue %ModInt undef, i64 %5, 0, !dbg !7771, !julia_type !7776\n",
        "  ret %ModInt %6, !dbg !7771\n",
        "}\n"
       ]
      }
     ],
     "prompt_number": 35
    },
    {
     "cell_type": "code",
     "collapsed": false,
     "input": [
      "code_native(+, (ModInt{11},ModInt{11}))"
     ],
     "language": "python",
     "metadata": {},
     "outputs": [
      {
       "output_type": "stream",
       "stream": "stdout",
       "text": [
        "\t.section\t__TEXT,__text,regular,pure_instructions\n",
        "Filename: In[26]\n",
        "Source line: 11\n",
        "\tpush\tRBP\n",
        "\tmov\tRBP, RSP\n",
        "\tmov\tRCX, RDI\n",
        "Source line: 11\n",
        "\tadd\tRCX, RSI\n",
        "\tmovabs\tRDX, 3353953467947191203\n",
        "\tmov\tRAX, RCX\n",
        "\timul\tRDX\n",
        "\tmov\tRAX, RDX\n",
        "\tshr\tRAX, 63\n",
        "\tsar\tRDX\n",
        "\tadd\tRDX, RAX\n",
        "\timul\tRAX, RDX, 11\n",
        "\tsub\tRCX, RAX\n",
        "\tmov\tRAX, RCX\n",
        "\tpop\tRBP\n",
        "\tret\n"
       ]
      }
     ],
     "prompt_number": 36
    },
    {
     "cell_type": "code",
     "collapsed": false,
     "input": [
      "m(j,k) = (ModInt{11}(j) + ModInt{11}(k)).k"
     ],
     "language": "python",
     "metadata": {},
     "outputs": [
      {
       "metadata": {},
       "output_type": "pyout",
       "prompt_number": 37,
       "text": [
        "m (generic function with 1 method)"
       ]
      }
     ],
     "prompt_number": 37
    },
    {
     "cell_type": "code",
     "collapsed": false,
     "input": [
      "code_llvm(m,(Int,Int))"
     ],
     "language": "python",
     "metadata": {},
     "outputs": [
      {
       "output_type": "stream",
       "stream": "stdout",
       "text": [
        "\n",
        "define i64 @julia_m(i64, i64) {\n",
        "top:\n",
        "  %2 = srem i64 %0, 11, !dbg !7820\n",
        "  %3 = srem i64 %1, 11, !dbg !7820\n",
        "  %4 = add i64 %3, %2, !dbg !7820\n",
        "  %5 = srem i64 %4, 11, !dbg !7820\n",
        "  ret i64 %5, !dbg !7820\n",
        "}\n"
       ]
      }
     ],
     "prompt_number": 38
    },
    {
     "cell_type": "markdown",
     "metadata": {},
     "source": [
      "## Performance\n",
      "\n",
      "<img src=\"files/performance.png\" width=\"100%\">\n",
      "\n",
      "### <center>benchmark times relative to C (smaller is better, C performance = 1.0)</center>"
     ]
    },
    {
     "cell_type": "markdown",
     "metadata": {},
     "source": [
      "### Some Details\n",
      "\n",
      "- These days several dynamic languages run fast (LuaJIT, JavaScript, PyPy)\n",
      "- Julia is not primarily about implementation techniques\n",
      "- Making careful tradeoffs\n",
      "  - Native data types\n",
      "  - Check everything that can be *efficiently* checked\n",
      "- Programmer and compiler cooperate\n",
      "  - Dispatch rules collect type information without annoying people\n",
      "  - Users want declarative information in their programs, if it is optional"
     ]
    },
    {
     "cell_type": "markdown",
     "metadata": {},
     "source": [
      "## Dataflow Type Inference\n",
      "\n",
      "Our method signatures require non-trivial lattice operators\n",
      "      \n",
      "    (T,T) \u2293 (Union(Float64,Int),Int)\n",
      "        \u27f9 (Int,Int)\n",
      "    \n",
      "    (AbstractArray{Float64,N}, NTuple{N}) \u2293 (Matrix{Float64}, (Int...))\n",
      "        \u27f9 (Array{Float64,2}, (Int,Int))"
     ]
    },
    {
     "cell_type": "code",
     "collapsed": false,
     "input": [
      "xsqrt(x) = x < 0 ? sqrt(complex(x)) : sqrt(x)"
     ],
     "language": "python",
     "metadata": {},
     "outputs": [
      {
       "metadata": {},
       "output_type": "pyout",
       "prompt_number": 39,
       "text": [
        "xsqrt (generic function with 1 method)"
       ]
      }
     ],
     "prompt_number": 39
    },
    {
     "cell_type": "code",
     "collapsed": false,
     "input": [
      "xsqrt(2.)"
     ],
     "language": "python",
     "metadata": {},
     "outputs": [
      {
       "metadata": {},
       "output_type": "pyout",
       "prompt_number": 40,
       "text": [
        "1.4142135623730951"
       ]
      }
     ],
     "prompt_number": 40
    },
    {
     "cell_type": "code",
     "collapsed": false,
     "input": [
      "xsqrt(-2.0)"
     ],
     "language": "python",
     "metadata": {},
     "outputs": [
      {
       "metadata": {},
       "output_type": "pyout",
       "prompt_number": 46,
       "text": [
        "0.0 + 1.4142135623730951im"
       ]
      }
     ],
     "prompt_number": 46
    },
    {
     "cell_type": "code",
     "collapsed": false,
     "input": [
      "function d(sq)\n",
      "  y = xsqrt(sq)\n",
      "  return hypot(y,y)\n",
      "end"
     ],
     "language": "python",
     "metadata": {},
     "outputs": [
      {
       "metadata": {},
       "output_type": "pyout",
       "prompt_number": 42,
       "text": [
        "d (generic function with 1 method)"
       ]
      }
     ],
     "prompt_number": 42
    },
    {
     "cell_type": "code",
     "collapsed": false,
     "input": [
      "code_typed(d, (Float64,))"
     ],
     "language": "python",
     "metadata": {},
     "outputs": [
      {
       "metadata": {},
       "output_type": "pyout",
       "prompt_number": 43,
       "text": [
        "1-element Array{Any,1}:\n",
        " :($(Expr(:lambda, {:sq}, {{:y},{{:sq,Float64,0},{:y,Union(Complex{Float64},Float64),18}},{}}, quote  # In[42], line 2:\n",
        "        y = xsqrt(sq::Float64)::Union(Complex{Float64},Float64) # line 3:\n",
        "        return hypot(y::Union(Complex{Float64},Float64),y::Union(Complex{Float64},Float64))::Float64\n",
        "    end)))"
       ]
      }
     ],
     "prompt_number": 43
    },
    {
     "cell_type": "code",
     "collapsed": false,
     "input": [
      "methods(hypot)"
     ],
     "language": "python",
     "metadata": {},
     "outputs": [
      {
       "metadata": {},
       "output_type": "pyout",
       "prompt_number": 44,
       "text": [
        "# 8 methods for generic function \"hypot\":\n",
        "hypot(x::Float64,y::Float64) at math.jl:306\n",
        "hypot(x::Float32,y::Float32) at math.jl:307\n",
        "hypot(x::BigFloat,y::BigFloat) at mpfr.jl:483\n",
        "hypot{T<:Real}(x::T<:Real,y::T<:Real) at math.jl:235\n",
        "hypot(x::Real,y::Real) at math.jl:233\n",
        "hypot{T1<:Number,T2<:Number}(x::T1<:Number,y::AbstractArray{T2<:Number,N}) at operators.jl:259\n",
        "hypot{T1<:Number,T2<:Number}(x::AbstractArray{T1<:Number,N},y::T2<:Number) at operators.jl:261\n",
        "hypot{T1<:Number,T2<:Number}(x::AbstractArray{T1<:Number,N},y::AbstractArray{T2<:Number,N}) at operators.jl:265"
       ]
      }
     ],
     "prompt_number": 44
    },
    {
     "cell_type": "code",
     "collapsed": false,
     "input": [
      "code_llvm(d, (Float64,))"
     ],
     "language": "python",
     "metadata": {},
     "outputs": [
      {
       "output_type": "stream",
       "stream": "stdout",
       "text": [
        "\n",
        "define double @julia_d(double) {\n",
        "top:\n",
        "  %1 = alloca [5 x %jl_value_t*], align 8\n",
        "  %.sub = getelementptr inbounds [5 x %jl_value_t*]* %1, i64 0, i64 0\n",
        "  %2 = getelementptr [5 x %jl_value_t*]* %1, i64 0, i64 2, !dbg !8185\n",
        "  store %jl_value_t* inttoptr (i64 6 to %jl_value_t*), %jl_value_t** %.sub, align 8\n",
        "  %3 = load %jl_value_t*** @jl_pgcstack, align 8, !dbg !8185\n",
        "  %4 = getelementptr [5 x %jl_value_t*]* %1, i64 0, i64 1, !dbg !8185\n",
        "  %.c = bitcast %jl_value_t** %3 to %jl_value_t*, !dbg !8185\n",
        "  store %jl_value_t* %.c, %jl_value_t** %4, align 8, !dbg !8185\n",
        "  store %jl_value_t** %.sub, %jl_value_t*** @jl_pgcstack, align 8, !dbg !8185\n",
        "  store %jl_value_t* null, %jl_value_t** %2, align 8, !dbg !8185\n",
        "  %5 = getelementptr [5 x %jl_value_t*]* %1, i64 0, i64 3\n",
        "  store %jl_value_t* null, %jl_value_t** %5, align 8\n",
        "  %6 = getelementptr [5 x %jl_value_t*]* %1, i64 0, i64 4\n",
        "  store %jl_value_t* null, %jl_value_t** %6, align 8\n",
        "  %7 = call %jl_value_t* @julia_xsqrt(double %0), !dbg !8190\n",
        "  store %jl_value_t* %7, %jl_value_t** %2, align 8, !dbg !8190\n",
        "  store %jl_value_t* %7, %jl_value_t** %5, align 8, !dbg !8191\n",
        "  store %jl_value_t* %7, %jl_value_t** %6, align 8, !dbg !8191\n",
        "  %8 = call %jl_value_t* @jl_apply_generic(%jl_value_t* inttoptr (i64 140629511201952 to %jl_value_t*), %jl_value_t** %5, i32 2), !dbg !8191\n",
        "  %9 = getelementptr inbounds %jl_value_t* %8, i64 1, i32 0, !dbg !8191\n",
        "  %10 = bitcast %jl_value_t** %9 to double*, !dbg !8191\n",
        "  %11 = load double* %10, align 8, !dbg !8191\n",
        "  %12 = load %jl_value_t** %4, align 8, !dbg !8191\n",
        "  %13 = getelementptr inbounds %jl_value_t* %12, i64 0, i32 0, !dbg !8191\n",
        "  store %jl_value_t** %13, %jl_value_t*** @jl_pgcstack, align 8, !dbg !8191\n",
        "  ret double %11, !dbg !8191\n",
        "}\n"
       ]
      }
     ],
     "prompt_number": 45
    },
    {
     "cell_type": "markdown",
     "metadata": {},
     "source": [
      "## Some Practical Complications\n",
      "\n",
      "- Need to insert widening operators in the right places\n",
      "- Widen method cache entries to avoid explosion\n",
      "- Code generation needs to handle\n",
      "  - incomplete type information\n",
      "  - erroneous code in branches not taken (no compile-time errors)"
     ]
    },
    {
     "cell_type": "markdown",
     "metadata": {},
     "source": [
      "## Full Stack in One Language\n",
      "\n",
      "- Low barrier to contributing to the core system\n",
      "- One major project is using it so that the same code can be used both as a human-readable spec and for simulation and testing"
     ]
    }
   ],
   "metadata": {}
  }
 ]
}